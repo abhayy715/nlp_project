{
  "nbformat": 4,
  "nbformat_minor": 0,
  "metadata": {
    "colab": {
      "provenance": []
    },
    "kernelspec": {
      "name": "python3",
      "display_name": "Python 3"
    },
    "language_info": {
      "name": "python"
    }
  },
  "cells": [
    {
      "cell_type": "code",
      "execution_count": 1,
      "metadata": {
        "colab": {
          "base_uri": "https://localhost:8080/",
          "height": 0
        },
        "id": "9avDG2otQFZk",
        "outputId": "7b154066-8de8-4d74-f4cc-e4f9aafdef9d"
      },
      "outputs": [
        {
          "output_type": "stream",
          "name": "stdout",
          "text": [
            "Mounted at /content/drive\n"
          ]
        }
      ],
      "source": [
        "from google.colab import drive\n",
        "drive.mount('/content/drive')"
      ]
    },
    {
      "cell_type": "code",
      "source": [
        "import pandas as pd\n",
        "\n",
        "df_fake = pd.read_csv(\"/content/drive/MyDrive/news detection/Fake.csv\")\n",
        "df_real = pd.read_csv(\"/content/drive/MyDrive/news detection/True.csv\")\n",
        "\n",
        "df_fake['label'] = 0\n",
        "df_real['label'] = 1\n",
        "\n",
        "df = pd.concat([df_fake, df_real]).sample(frac=1, random_state=42).reset_index(drop=True)"
      ],
      "metadata": {
        "id": "yxd0ynHkQfd7"
      },
      "execution_count": 2,
      "outputs": []
    },
    {
      "source": [
        "import nltk\n",
        "from nltk.tokenize import word_tokenize\n",
        "from nltk.corpus import stopwords\n",
        "from nltk.stem import WordNetLemmatizer\n",
        "\n",
        "nltk.download('punkt')\n",
        "nltk.download('stopwords')\n",
        "nltk.download('wordnet')\n",
        "\n",
        "stop_words = set(stopwords.words('english'))\n",
        "lemmatizer = WordNetLemmatizer()\n",
        "\n",
        "def preprocess(text):\n",
        "    tokens = word_tokenize(str(text))\n",
        "    tokens = [w.lower() for w in tokens if w.isalpha() and w.lower() not in stop_words]\n",
        "    tokens = [lemmatizer.lemmatize(w) for w in tokens]\n",
        "    return ' '.join(tokens)\n",
        "\n",
        "df['text_cleaned'] = df['text'].apply(preprocess)\n"
      ],
      "cell_type": "code",
      "metadata": {
        "colab": {
          "base_uri": "https://localhost:8080/",
          "height": 0
        },
        "id": "4yV7PWmdRkJZ",
        "outputId": "2ebb2183-4ae9-404d-90f8-5ffc8155a9f2"
      },
      "execution_count": 8,
      "outputs": [
        {
          "output_type": "stream",
          "name": "stderr",
          "text": [
            "[nltk_data] Downloading package punkt to /root/nltk_data...\n",
            "[nltk_data]   Package punkt is already up-to-date!\n",
            "[nltk_data] Downloading package stopwords to /root/nltk_data...\n",
            "[nltk_data]   Package stopwords is already up-to-date!\n",
            "[nltk_data] Downloading package wordnet to /root/nltk_data...\n",
            "[nltk_data]   Package wordnet is already up-to-date!\n"
          ]
        }
      ]
    },
    {
      "cell_type": "code",
      "source": [
        "from gensim.models import Word2Vec\n",
        "from nltk.tokenize import word_tokenize\n",
        "\n",
        "df['tokens'] = df['text_cleaned'].apply(word_tokenize)\n",
        "\n",
        "w2v_model = Word2Vec(sentences=df['tokens'], vector_size=100, window=5, min_count=2, workers=4)"
      ],
      "metadata": {
        "id": "FRDE_2QqV2p_"
      },
      "execution_count": 9,
      "outputs": []
    },
    {
      "cell_type": "code",
      "source": [
        "from sklearn.feature_extraction.text import TfidfVectorizer\n",
        "\n",
        "vectorizer = TfidfVectorizer(max_features=5000)\n",
        "X_tfidf = vectorizer.fit_transform(df['text_cleaned'])\n",
        "y = df['label']"
      ],
      "metadata": {
        "id": "ovlItqsFRe-Q"
      },
      "execution_count": 10,
      "outputs": []
    },
    {
      "cell_type": "code",
      "source": [
        "from sklearn.decomposition import TruncatedSVD\n",
        "\n",
        "lsa = TruncatedSVD(n_components=5, random_state=42)\n",
        "X_lsa = lsa.fit_transform(X_tfidf)\n",
        "\n",
        "for i, comp in enumerate(lsa.components_):\n",
        "    terms = [vectorizer.get_feature_names_out()[j] for j in comp.argsort()[-10:]]\n",
        "    print(f\"Topic {i+1}: {' | '.join(terms)}\")"
      ],
      "metadata": {
        "colab": {
          "base_uri": "https://localhost:8080/",
          "height": 0
        },
        "id": "VgWg9T0ASg9a",
        "outputId": "3ed9367b-dcea-44a9-8a8e-2e94dc22f411"
      },
      "execution_count": 7,
      "outputs": [
        {
          "output_type": "stream",
          "name": "stdout",
          "text": [
            "Topic 1: house | people | obama | clinton | would | state | republican | president | said | trump\n",
            "Topic 2: woman | candidate | like | campaign | image | republican | donald | hillary | clinton | trump\n",
            "Topic 3: donald | russian | missile | korean | russia | nuclear | china | north | korea | trump\n",
            "Topic 4: legislation | vote | democrat | senator | committee | bill | house | senate | republican | tax\n",
            "Topic 5: election | campaign | investigation | comey | fbi | email | russia | hillary | russian | clinton\n"
          ]
        }
      ]
    },
    {
      "cell_type": "code",
      "source": [
        "from sklearn.model_selection import train_test_split\n",
        "from sklearn.linear_model import LogisticRegression\n",
        "from sklearn.metrics import classification_report\n",
        "\n",
        "X_train, X_test, y_train, y_test = train_test_split(X_tfidf, y, test_size=0.2, random_state=42)\n",
        "\n",
        "clf = LogisticRegression()\n",
        "clf.fit(X_train, y_train)\n",
        "print(classification_report(y_test, clf.predict(X_test)))"
      ],
      "metadata": {
        "colab": {
          "base_uri": "https://localhost:8080/",
          "height": 0
        },
        "id": "nyCGUhLRSyDF",
        "outputId": "c77a80da-3184-406f-d940-05f83b8cf4d9"
      },
      "execution_count": 8,
      "outputs": [
        {
          "output_type": "stream",
          "name": "stdout",
          "text": [
            "              precision    recall  f1-score   support\n",
            "\n",
            "           0       0.99      0.98      0.98      4710\n",
            "           1       0.98      0.99      0.98      4270\n",
            "\n",
            "    accuracy                           0.98      8980\n",
            "   macro avg       0.98      0.98      0.98      8980\n",
            "weighted avg       0.98      0.98      0.98      8980\n",
            "\n"
          ]
        }
      ]
    },
    {
      "cell_type": "code",
      "source": [
        "!pip install --upgrade numpy\n",
        "!pip uninstall -y gensim\n",
        "!pip install gensim"
      ],
      "metadata": {
        "colab": {
          "base_uri": "https://localhost:8080/",
          "height": 0
        },
        "id": "BSxQ6x5hS7ot",
        "outputId": "671e6a50-cf00-4858-9df9-bbc535e88eff"
      },
      "execution_count": 1,
      "outputs": [
        {
          "output_type": "stream",
          "name": "stdout",
          "text": [
            "Requirement already satisfied: numpy in /usr/local/lib/python3.11/dist-packages (2.2.5)\n",
            "\u001b[33mWARNING: Skipping gensim as it is not installed.\u001b[0m\u001b[33m\n",
            "\u001b[0mERROR: unknown command \"install gensim\" - maybe you meant \"install\"\n"
          ]
        }
      ]
    },
    {
      "source": [
        "!pip install gensim # remove the invisible character between install and gensim to run the command properly"
      ],
      "cell_type": "code",
      "metadata": {
        "colab": {
          "base_uri": "https://localhost:8080/",
          "height": 0
        },
        "id": "4mtTpqUDUYXR",
        "outputId": "7252dd11-cbe1-40e5-c039-29dcbf7a9b30"
      },
      "execution_count": 5,
      "outputs": [
        {
          "output_type": "stream",
          "name": "stdout",
          "text": [
            "Collecting gensim\n",
            "  Using cached gensim-4.3.3-cp311-cp311-manylinux_2_17_x86_64.manylinux2014_x86_64.whl.metadata (8.1 kB)\n",
            "Collecting numpy<2.0,>=1.18.5 (from gensim)\n",
            "  Using cached numpy-1.26.4-cp311-cp311-manylinux_2_17_x86_64.manylinux2014_x86_64.whl.metadata (61 kB)\n",
            "Requirement already satisfied: scipy<1.14.0,>=1.7.0 in /usr/local/lib/python3.11/dist-packages (from gensim) (1.13.1)\n",
            "Requirement already satisfied: smart-open>=1.8.1 in /usr/local/lib/python3.11/dist-packages (from gensim) (7.1.0)\n",
            "Requirement already satisfied: wrapt in /usr/local/lib/python3.11/dist-packages (from smart-open>=1.8.1->gensim) (1.17.2)\n",
            "Using cached gensim-4.3.3-cp311-cp311-manylinux_2_17_x86_64.manylinux2014_x86_64.whl (26.7 MB)\n",
            "Using cached numpy-1.26.4-cp311-cp311-manylinux_2_17_x86_64.manylinux2014_x86_64.whl (18.3 MB)\n",
            "Installing collected packages: numpy, gensim\n",
            "  Attempting uninstall: numpy\n",
            "    Found existing installation: numpy 2.2.5\n",
            "    Uninstalling numpy-2.2.5:\n",
            "      Successfully uninstalled numpy-2.2.5\n",
            "\u001b[31mERROR: pip's dependency resolver does not currently take into account all the packages that are installed. This behaviour is the source of the following dependency conflicts.\n",
            "thinc 8.3.6 requires numpy<3.0.0,>=2.0.0, but you have numpy 1.26.4 which is incompatible.\u001b[0m\u001b[31m\n",
            "\u001b[0mSuccessfully installed gensim-4.3.3 numpy-1.26.4\n"
          ]
        }
      ]
    },
    {
      "source": [
        "from tensorflow.keras.preprocessing.text import Tokenizer\n",
        "from tensorflow.keras.preprocessing.sequence import pad_sequences\n",
        "from tensorflow.keras.models import Sequential\n",
        "from tensorflow.keras.layers import Embedding, LSTM, Dense\n",
        "# Import train_test_split from sklearn.model_selection\n",
        "from sklearn.model_selection import train_test_split\n",
        "\n",
        "\n",
        "tokenizer = Tokenizer(num_words=5000, oov_token=\"<OOV>\")\n",
        "tokenizer.fit_on_texts(df['text_cleaned'])\n",
        "\n",
        "sequences = tokenizer.texts_to_sequences(df['text_cleaned'])\n",
        "padded = pad_sequences(sequences, maxlen=300)\n",
        "\n",
        "# Now train_test_split is defined and can be used\n",
        "X_train_dl, X_test_dl, y_train_dl, y_test_dl = train_test_split(padded, y, test_size=0.2)\n",
        "\n",
        "model = Sequential([\n",
        "    Embedding(5000, 64),\n",
        "    LSTM(64),\n",
        "    Dense(32, activation='relu'),\n",
        "    Dense(1, activation='sigmoid')\n",
        "])\n",
        "\n",
        "model.compile(loss='binary_crossentropy', optimizer='adam', metrics=['accuracy'])\n",
        "model.fit(X_train_dl, y_train_dl, epochs=2, validation_data=(X_test_dl, y_test_dl))"
      ],
      "cell_type": "code",
      "metadata": {
        "colab": {
          "base_uri": "https://localhost:8080/",
          "height": 0
        },
        "id": "NzXnOwK2Xhcr",
        "outputId": "d9da0f97-3020-4d86-ca44-8531cf2506eb"
      },
      "execution_count": 12,
      "outputs": [
        {
          "output_type": "stream",
          "name": "stdout",
          "text": [
            "Epoch 1/2\n",
            "\u001b[1m1123/1123\u001b[0m \u001b[32m━━━━━━━━━━━━━━━━━━━━\u001b[0m\u001b[37m\u001b[0m \u001b[1m212s\u001b[0m 186ms/step - accuracy: 0.9150 - loss: 0.2130 - val_accuracy: 0.9697 - val_loss: 0.1041\n",
            "Epoch 2/2\n",
            "\u001b[1m1123/1123\u001b[0m \u001b[32m━━━━━━━━━━━━━━━━━━━━\u001b[0m\u001b[37m\u001b[0m \u001b[1m246s\u001b[0m 172ms/step - accuracy: 0.9759 - loss: 0.0722 - val_accuracy: 0.9725 - val_loss: 0.0656\n"
          ]
        },
        {
          "output_type": "execute_result",
          "data": {
            "text/plain": [
              "<keras.src.callbacks.history.History at 0x7e438aa51510>"
            ]
          },
          "metadata": {},
          "execution_count": 12
        }
      ]
    },
    {
      "source": [
        "import pandas as pd\n",
        "import nltk\n",
        "from nltk.tokenize import word_tokenize\n",
        "from nltk.corpus import stopwords\n",
        "from nltk.stem import WordNetLemmatizer\n",
        "import matplotlib.pyplot as plt\n",
        "import seaborn as sns\n",
        "\n",
        "# Load data and assign labels\n",
        "# Update file paths to include the correct directory\n",
        "df_fake = pd.read_csv(\"/content/drive/MyDrive/news detection/Fake.csv\")\n",
        "df_real = pd.read_csv(\"/content/drive/MyDrive/news detection/True.csv\")"
      ],
      "cell_type": "code",
      "metadata": {
        "id": "HYz5LIBplJay"
      },
      "execution_count": 3,
      "outputs": []
    },
    {
      "source": [
        "import pandas as pd\n",
        "\n",
        "df_fake = pd.read_csv(\"/content/drive/MyDrive/news detection/Fake.csv\")\n",
        "df_real = pd.read_csv(\"/content/drive/MyDrive/news detection/True.csv\")\n",
        "\n",
        "df_fake['label'] = 0\n",
        "df_real['label'] = 1\n",
        "\n",
        "df = pd.concat([df_fake, df_real]).sample(frac=1, random_state=42).reset_index(drop=True)"
      ],
      "cell_type": "code",
      "metadata": {
        "id": "wC9XPE-tlVv7"
      },
      "execution_count": 5,
      "outputs": []
    },
    {
      "cell_type": "code",
      "source": [
        "import matplotlib.pyplot as plt\n",
        "import seaborn as sns\n",
        "\n",
        "# Count of fake vs real\n",
        "sns.countplot(x='label', data=df)\n",
        "plt.title('Distribution of Fake (0) and Real (1) News')\n",
        "plt.xlabel('News Label')\n",
        "plt.ylabel('Count')\n",
        "plt.xticks([0, 1], ['Fake', 'Real'])\n",
        "plt.show()"
      ],
      "metadata": {
        "colab": {
          "base_uri": "https://localhost:8080/",
          "height": 472
        },
        "id": "8Td0t8O8lRH0",
        "outputId": "b091d8d1-2a67-4a99-f817-9f2945c3f8d7"
      },
      "execution_count": 6,
      "outputs": [
        {
          "output_type": "display_data",
          "data": {
            "text/plain": [
              "<Figure size 640x480 with 1 Axes>"
            ],
            "image/png": "[encoded data removed]"
          },
          "metadata": {}
        }
      ]
    },
    {
      "cell_type": "code",
      "source": [
        "df['text_length'] = df['text'].apply(lambda x: len(str(x).split()))\n",
        "sns.histplot(data=df, x='text_length', hue='label', bins=50, kde=True)\n",
        "plt.title('Distribution of Text Length by Label')\n",
        "plt.xlabel('Number of Words')\n",
        "plt.ylabel('Count')\n",
        "plt.show()\n"
      ],
      "metadata": {
        "colab": {
          "base_uri": "https://localhost:8080/",
          "height": 472
        },
        "id": "XXYx8HjslZH8",
        "outputId": "9a12dd81-d547-45e8-9e5b-d14031804830"
      },
      "execution_count": 7,
      "outputs": [
        {
          "output_type": "display_data",
          "data": {
            "text/plain": [
              "<Figure size 640x480 with 1 Axes>"
            ],
            "image/png": "[encoded data removed]"
          },
          "metadata": {}
        }
      ]
    },
    {
      "cell_type": "code",
      "source": [],
      "metadata": {
        "id": "ET4hwFHB6d67"
      },
      "execution_count": null,
      "outputs": []
    }
  ]
}